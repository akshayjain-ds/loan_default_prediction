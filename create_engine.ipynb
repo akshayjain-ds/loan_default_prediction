{
 "cells": [
  {
   "cell_type": "markdown",
   "source": [
    "Import Packages"
   ],
   "metadata": {
    "collapsed": false,
    "pycharm": {
     "name": "#%% md\n"
    }
   }
  },
  {
   "cell_type": "code",
   "execution_count": 1,
   "outputs": [],
   "source": [
    "import copy\n",
    "import pickle\n",
    "import pandas as pd\n",
    "from loan_default_engine_definition import BaseLoanDefaultModel"
   ],
   "metadata": {
    "collapsed": false,
    "pycharm": {
     "name": "#%%\n"
    }
   }
  },
  {
   "cell_type": "code",
   "execution_count": 2,
   "outputs": [
    {
     "data": {
      "text/plain": "19"
     },
     "execution_count": 2,
     "metadata": {},
     "output_type": "execute_result"
    }
   ],
   "source": [
    "with open(\"./artefacts/input_features.pkl\", \"rb\") as f:\n",
    "    input_features = pickle.load(f)\n",
    "len(input_features)"
   ],
   "metadata": {
    "collapsed": false,
    "pycharm": {
     "name": "#%%\n"
    }
   }
  },
  {
   "cell_type": "code",
   "execution_count": 3,
   "outputs": [
    {
     "data": {
      "text/plain": "19"
     },
     "execution_count": 3,
     "metadata": {},
     "output_type": "execute_result"
    }
   ],
   "source": [
    "with open(\"./artefacts/decision_features.pkl\", \"rb\") as f:\n",
    "    decision_features = pickle.load(f)\n",
    "len(decision_features)"
   ],
   "metadata": {
    "collapsed": false,
    "pycharm": {
     "name": "#%%\n"
    }
   }
  },
  {
   "cell_type": "code",
   "execution_count": 4,
   "outputs": [
    {
     "data": {
      "text/plain": "GLMMEncoder(cols=['credit_history', 'purpose', 'personal_status',\n                  'other_debtors', 'property', 'installment_plan', 'housing',\n                  'foreign_worker', 'job'])",
      "text/html": "<style>#sk-container-id-1 {color: black;background-color: white;}#sk-container-id-1 pre{padding: 0;}#sk-container-id-1 div.sk-toggleable {background-color: white;}#sk-container-id-1 label.sk-toggleable__label {cursor: pointer;display: block;width: 100%;margin-bottom: 0;padding: 0.3em;box-sizing: border-box;text-align: center;}#sk-container-id-1 label.sk-toggleable__label-arrow:before {content: \"▸\";float: left;margin-right: 0.25em;color: #696969;}#sk-container-id-1 label.sk-toggleable__label-arrow:hover:before {color: black;}#sk-container-id-1 div.sk-estimator:hover label.sk-toggleable__label-arrow:before {color: black;}#sk-container-id-1 div.sk-toggleable__content {max-height: 0;max-width: 0;overflow: hidden;text-align: left;background-color: #f0f8ff;}#sk-container-id-1 div.sk-toggleable__content pre {margin: 0.2em;color: black;border-radius: 0.25em;background-color: #f0f8ff;}#sk-container-id-1 input.sk-toggleable__control:checked~div.sk-toggleable__content {max-height: 200px;max-width: 100%;overflow: auto;}#sk-container-id-1 input.sk-toggleable__control:checked~label.sk-toggleable__label-arrow:before {content: \"▾\";}#sk-container-id-1 div.sk-estimator input.sk-toggleable__control:checked~label.sk-toggleable__label {background-color: #d4ebff;}#sk-container-id-1 div.sk-label input.sk-toggleable__control:checked~label.sk-toggleable__label {background-color: #d4ebff;}#sk-container-id-1 input.sk-hidden--visually {border: 0;clip: rect(1px 1px 1px 1px);clip: rect(1px, 1px, 1px, 1px);height: 1px;margin: -1px;overflow: hidden;padding: 0;position: absolute;width: 1px;}#sk-container-id-1 div.sk-estimator {font-family: monospace;background-color: #f0f8ff;border: 1px dotted black;border-radius: 0.25em;box-sizing: border-box;margin-bottom: 0.5em;}#sk-container-id-1 div.sk-estimator:hover {background-color: #d4ebff;}#sk-container-id-1 div.sk-parallel-item::after {content: \"\";width: 100%;border-bottom: 1px solid gray;flex-grow: 1;}#sk-container-id-1 div.sk-label:hover label.sk-toggleable__label {background-color: #d4ebff;}#sk-container-id-1 div.sk-serial::before {content: \"\";position: absolute;border-left: 1px solid gray;box-sizing: border-box;top: 0;bottom: 0;left: 50%;z-index: 0;}#sk-container-id-1 div.sk-serial {display: flex;flex-direction: column;align-items: center;background-color: white;padding-right: 0.2em;padding-left: 0.2em;position: relative;}#sk-container-id-1 div.sk-item {position: relative;z-index: 1;}#sk-container-id-1 div.sk-parallel {display: flex;align-items: stretch;justify-content: center;background-color: white;position: relative;}#sk-container-id-1 div.sk-item::before, #sk-container-id-1 div.sk-parallel-item::before {content: \"\";position: absolute;border-left: 1px solid gray;box-sizing: border-box;top: 0;bottom: 0;left: 50%;z-index: -1;}#sk-container-id-1 div.sk-parallel-item {display: flex;flex-direction: column;z-index: 1;position: relative;background-color: white;}#sk-container-id-1 div.sk-parallel-item:first-child::after {align-self: flex-end;width: 50%;}#sk-container-id-1 div.sk-parallel-item:last-child::after {align-self: flex-start;width: 50%;}#sk-container-id-1 div.sk-parallel-item:only-child::after {width: 0;}#sk-container-id-1 div.sk-dashed-wrapped {border: 1px dashed gray;margin: 0 0.4em 0.5em 0.4em;box-sizing: border-box;padding-bottom: 0.4em;background-color: white;}#sk-container-id-1 div.sk-label label {font-family: monospace;font-weight: bold;display: inline-block;line-height: 1.2em;}#sk-container-id-1 div.sk-label-container {text-align: center;}#sk-container-id-1 div.sk-container {/* jupyter's `normalize.less` sets `[hidden] { display: none; }` but bootstrap.min.css set `[hidden] { display: none !important; }` so we also need the `!important` here to be able to override the default hidden behavior on the sphinx rendered scikit-learn.org. See: https://github.com/scikit-learn/scikit-learn/issues/21755 */display: inline-block !important;position: relative;}#sk-container-id-1 div.sk-text-repr-fallback {display: none;}</style><div id=\"sk-container-id-1\" class=\"sk-top-container\"><div class=\"sk-text-repr-fallback\"><pre>GLMMEncoder(cols=[&#x27;credit_history&#x27;, &#x27;purpose&#x27;, &#x27;personal_status&#x27;,\n                  &#x27;other_debtors&#x27;, &#x27;property&#x27;, &#x27;installment_plan&#x27;, &#x27;housing&#x27;,\n                  &#x27;foreign_worker&#x27;, &#x27;job&#x27;])</pre><b>In a Jupyter environment, please rerun this cell to show the HTML representation or trust the notebook. <br />On GitHub, the HTML representation is unable to render, please try loading this page with nbviewer.org.</b></div><div class=\"sk-container\" hidden><div class=\"sk-item\"><div class=\"sk-estimator sk-toggleable\"><input class=\"sk-toggleable__control sk-hidden--visually\" id=\"sk-estimator-id-1\" type=\"checkbox\" checked><label for=\"sk-estimator-id-1\" class=\"sk-toggleable__label sk-toggleable__label-arrow\">GLMMEncoder</label><div class=\"sk-toggleable__content\"><pre>GLMMEncoder(cols=[&#x27;credit_history&#x27;, &#x27;purpose&#x27;, &#x27;personal_status&#x27;,\n                  &#x27;other_debtors&#x27;, &#x27;property&#x27;, &#x27;installment_plan&#x27;, &#x27;housing&#x27;,\n                  &#x27;foreign_worker&#x27;, &#x27;job&#x27;])</pre></div></div></div></div></div>"
     },
     "execution_count": 4,
     "metadata": {},
     "output_type": "execute_result"
    }
   ],
   "source": [
    "with open(\"./artefacts/categorical_encoder.pkl\", \"rb\") as f:\n",
    "    categorical_encoder = pickle.load(f)\n",
    "categorical_encoder"
   ],
   "metadata": {
    "collapsed": false,
    "pycharm": {
     "name": "#%%\n"
    }
   }
  },
  {
   "cell_type": "code",
   "execution_count": 5,
   "outputs": [
    {
     "data": {
      "text/plain": "CalibratedClassifierCV(cv='prefit',\n                       estimator=XGBClassifier(base_score=None,\n                                               booster='gbtree', callbacks=None,\n                                               colsample_bylevel=0.3,\n                                               colsample_bynode=0.7000000000000002,\n                                               colsample_bytree=0.4,\n                                               early_stopping_rounds=None,\n                                               enable_categorical=False,\n                                               eval_metric=None,\n                                               feature_types=None, gamma=None,\n                                               gpu_id=None, grow_policy=None,\n                                               importance_type=None,\n                                               interaction_constraints=None,\n                                               learning_rate=0.4, max_bin=None,\n                                               max_cat_threshold=None,\n                                               max_cat_to_onehot=None,\n                                               max_delta_step=None, max_depth=4,\n                                               max_leaves=None,\n                                               min_child_weight=6, missing=nan,\n                                               monotone_constraints=None,\n                                               n_estimators=176, n_jobs=None,\n                                               num_parallel_tree=None,\n                                               predictor=None, random_state=123, ...))",
      "text/html": "<style>#sk-container-id-2 {color: black;background-color: white;}#sk-container-id-2 pre{padding: 0;}#sk-container-id-2 div.sk-toggleable {background-color: white;}#sk-container-id-2 label.sk-toggleable__label {cursor: pointer;display: block;width: 100%;margin-bottom: 0;padding: 0.3em;box-sizing: border-box;text-align: center;}#sk-container-id-2 label.sk-toggleable__label-arrow:before {content: \"▸\";float: left;margin-right: 0.25em;color: #696969;}#sk-container-id-2 label.sk-toggleable__label-arrow:hover:before {color: black;}#sk-container-id-2 div.sk-estimator:hover label.sk-toggleable__label-arrow:before {color: black;}#sk-container-id-2 div.sk-toggleable__content {max-height: 0;max-width: 0;overflow: hidden;text-align: left;background-color: #f0f8ff;}#sk-container-id-2 div.sk-toggleable__content pre {margin: 0.2em;color: black;border-radius: 0.25em;background-color: #f0f8ff;}#sk-container-id-2 input.sk-toggleable__control:checked~div.sk-toggleable__content {max-height: 200px;max-width: 100%;overflow: auto;}#sk-container-id-2 input.sk-toggleable__control:checked~label.sk-toggleable__label-arrow:before {content: \"▾\";}#sk-container-id-2 div.sk-estimator input.sk-toggleable__control:checked~label.sk-toggleable__label {background-color: #d4ebff;}#sk-container-id-2 div.sk-label input.sk-toggleable__control:checked~label.sk-toggleable__label {background-color: #d4ebff;}#sk-container-id-2 input.sk-hidden--visually {border: 0;clip: rect(1px 1px 1px 1px);clip: rect(1px, 1px, 1px, 1px);height: 1px;margin: -1px;overflow: hidden;padding: 0;position: absolute;width: 1px;}#sk-container-id-2 div.sk-estimator {font-family: monospace;background-color: #f0f8ff;border: 1px dotted black;border-radius: 0.25em;box-sizing: border-box;margin-bottom: 0.5em;}#sk-container-id-2 div.sk-estimator:hover {background-color: #d4ebff;}#sk-container-id-2 div.sk-parallel-item::after {content: \"\";width: 100%;border-bottom: 1px solid gray;flex-grow: 1;}#sk-container-id-2 div.sk-label:hover label.sk-toggleable__label {background-color: #d4ebff;}#sk-container-id-2 div.sk-serial::before {content: \"\";position: absolute;border-left: 1px solid gray;box-sizing: border-box;top: 0;bottom: 0;left: 50%;z-index: 0;}#sk-container-id-2 div.sk-serial {display: flex;flex-direction: column;align-items: center;background-color: white;padding-right: 0.2em;padding-left: 0.2em;position: relative;}#sk-container-id-2 div.sk-item {position: relative;z-index: 1;}#sk-container-id-2 div.sk-parallel {display: flex;align-items: stretch;justify-content: center;background-color: white;position: relative;}#sk-container-id-2 div.sk-item::before, #sk-container-id-2 div.sk-parallel-item::before {content: \"\";position: absolute;border-left: 1px solid gray;box-sizing: border-box;top: 0;bottom: 0;left: 50%;z-index: -1;}#sk-container-id-2 div.sk-parallel-item {display: flex;flex-direction: column;z-index: 1;position: relative;background-color: white;}#sk-container-id-2 div.sk-parallel-item:first-child::after {align-self: flex-end;width: 50%;}#sk-container-id-2 div.sk-parallel-item:last-child::after {align-self: flex-start;width: 50%;}#sk-container-id-2 div.sk-parallel-item:only-child::after {width: 0;}#sk-container-id-2 div.sk-dashed-wrapped {border: 1px dashed gray;margin: 0 0.4em 0.5em 0.4em;box-sizing: border-box;padding-bottom: 0.4em;background-color: white;}#sk-container-id-2 div.sk-label label {font-family: monospace;font-weight: bold;display: inline-block;line-height: 1.2em;}#sk-container-id-2 div.sk-label-container {text-align: center;}#sk-container-id-2 div.sk-container {/* jupyter's `normalize.less` sets `[hidden] { display: none; }` but bootstrap.min.css set `[hidden] { display: none !important; }` so we also need the `!important` here to be able to override the default hidden behavior on the sphinx rendered scikit-learn.org. See: https://github.com/scikit-learn/scikit-learn/issues/21755 */display: inline-block !important;position: relative;}#sk-container-id-2 div.sk-text-repr-fallback {display: none;}</style><div id=\"sk-container-id-2\" class=\"sk-top-container\"><div class=\"sk-text-repr-fallback\"><pre>CalibratedClassifierCV(cv=&#x27;prefit&#x27;,\n                       estimator=XGBClassifier(base_score=None,\n                                               booster=&#x27;gbtree&#x27;, callbacks=None,\n                                               colsample_bylevel=0.3,\n                                               colsample_bynode=0.7000000000000002,\n                                               colsample_bytree=0.4,\n                                               early_stopping_rounds=None,\n                                               enable_categorical=False,\n                                               eval_metric=None,\n                                               feature_types=None, gamma=None,\n                                               gpu_id=None, grow_policy=None,\n                                               importance_type=None,\n                                               interaction_constraints=None,\n                                               learning_rate=0.4, max_bin=None,\n                                               max_cat_threshold=None,\n                                               max_cat_to_onehot=None,\n                                               max_delta_step=None, max_depth=4,\n                                               max_leaves=None,\n                                               min_child_weight=6, missing=nan,\n                                               monotone_constraints=None,\n                                               n_estimators=176, n_jobs=None,\n                                               num_parallel_tree=None,\n                                               predictor=None, random_state=123, ...))</pre><b>In a Jupyter environment, please rerun this cell to show the HTML representation or trust the notebook. <br />On GitHub, the HTML representation is unable to render, please try loading this page with nbviewer.org.</b></div><div class=\"sk-container\" hidden><div class=\"sk-item sk-dashed-wrapped\"><div class=\"sk-label-container\"><div class=\"sk-label sk-toggleable\"><input class=\"sk-toggleable__control sk-hidden--visually\" id=\"sk-estimator-id-2\" type=\"checkbox\" ><label for=\"sk-estimator-id-2\" class=\"sk-toggleable__label sk-toggleable__label-arrow\">CalibratedClassifierCV</label><div class=\"sk-toggleable__content\"><pre>CalibratedClassifierCV(cv=&#x27;prefit&#x27;,\n                       estimator=XGBClassifier(base_score=None,\n                                               booster=&#x27;gbtree&#x27;, callbacks=None,\n                                               colsample_bylevel=0.3,\n                                               colsample_bynode=0.7000000000000002,\n                                               colsample_bytree=0.4,\n                                               early_stopping_rounds=None,\n                                               enable_categorical=False,\n                                               eval_metric=None,\n                                               feature_types=None, gamma=None,\n                                               gpu_id=None, grow_policy=None,\n                                               importance_type=None,\n                                               interaction_constraints=None,\n                                               learning_rate=0.4, max_bin=None,\n                                               max_cat_threshold=None,\n                                               max_cat_to_onehot=None,\n                                               max_delta_step=None, max_depth=4,\n                                               max_leaves=None,\n                                               min_child_weight=6, missing=nan,\n                                               monotone_constraints=None,\n                                               n_estimators=176, n_jobs=None,\n                                               num_parallel_tree=None,\n                                               predictor=None, random_state=123, ...))</pre></div></div></div><div class=\"sk-parallel\"><div class=\"sk-parallel-item\"><div class=\"sk-item\"><div class=\"sk-label-container\"><div class=\"sk-label sk-toggleable\"><input class=\"sk-toggleable__control sk-hidden--visually\" id=\"sk-estimator-id-3\" type=\"checkbox\" ><label for=\"sk-estimator-id-3\" class=\"sk-toggleable__label sk-toggleable__label-arrow\">estimator: XGBClassifier</label><div class=\"sk-toggleable__content\"><pre>XGBClassifier(base_score=None, booster=&#x27;gbtree&#x27;, callbacks=None,\n              colsample_bylevel=0.3, colsample_bynode=0.7000000000000002,\n              colsample_bytree=0.4, early_stopping_rounds=None,\n              enable_categorical=False, eval_metric=None, feature_types=None,\n              gamma=None, gpu_id=None, grow_policy=None, importance_type=None,\n              interaction_constraints=None, learning_rate=0.4, max_bin=None,\n              max_cat_threshold=None, max_cat_to_onehot=None,\n              max_delta_step=None, max_depth=4, max_leaves=None,\n              min_child_weight=6, missing=nan, monotone_constraints=None,\n              n_estimators=176, n_jobs=None, num_parallel_tree=None,\n              predictor=None, random_state=123, ...)</pre></div></div></div><div class=\"sk-serial\"><div class=\"sk-item\"><div class=\"sk-estimator sk-toggleable\"><input class=\"sk-toggleable__control sk-hidden--visually\" id=\"sk-estimator-id-4\" type=\"checkbox\" ><label for=\"sk-estimator-id-4\" class=\"sk-toggleable__label sk-toggleable__label-arrow\">XGBClassifier</label><div class=\"sk-toggleable__content\"><pre>XGBClassifier(base_score=None, booster=&#x27;gbtree&#x27;, callbacks=None,\n              colsample_bylevel=0.3, colsample_bynode=0.7000000000000002,\n              colsample_bytree=0.4, early_stopping_rounds=None,\n              enable_categorical=False, eval_metric=None, feature_types=None,\n              gamma=None, gpu_id=None, grow_policy=None, importance_type=None,\n              interaction_constraints=None, learning_rate=0.4, max_bin=None,\n              max_cat_threshold=None, max_cat_to_onehot=None,\n              max_delta_step=None, max_depth=4, max_leaves=None,\n              min_child_weight=6, missing=nan, monotone_constraints=None,\n              n_estimators=176, n_jobs=None, num_parallel_tree=None,\n              predictor=None, random_state=123, ...)</pre></div></div></div></div></div></div></div></div></div></div>"
     },
     "execution_count": 5,
     "metadata": {},
     "output_type": "execute_result"
    }
   ],
   "source": [
    "with open(\"./artefacts/cal_model.pkl\", \"rb\") as f:\n",
    "    cal_model = pickle.load(f)\n",
    "cal_model"
   ],
   "metadata": {
    "collapsed": false,
    "pycharm": {
     "name": "#%%\n"
    }
   }
  },
  {
   "cell_type": "code",
   "execution_count": 6,
   "outputs": [
    {
     "data": {
      "text/plain": "<shap.explainers._tree.Tree at 0x7f8ccf63ddf0>"
     },
     "execution_count": 6,
     "metadata": {},
     "output_type": "execute_result"
    }
   ],
   "source": [
    "with open(\"./artefacts/shap_explainer.pkl\", \"rb\") as f:\n",
    "    shap_explainer = pickle.load(f)\n",
    "shap_explainer"
   ],
   "metadata": {
    "collapsed": false,
    "pycharm": {
     "name": "#%%\n"
    }
   }
  },
  {
   "cell_type": "code",
   "execution_count": 7,
   "outputs": [
    {
     "data": {
      "text/plain": "{'mkyc -> reject': {'threshold': 878.0,\n  'Precision': 85.714,\n  'Recall': 9.836,\n  'group_size': 3.5},\n 'approved -> mkyc': {'threshold': 16.0,\n  'Precision': 0.0,\n  'Recall': 0.0,\n  'group_size': 6.0}}"
     },
     "execution_count": 7,
     "metadata": {},
     "output_type": "execute_result"
    }
   ],
   "source": [
    "with open(\"./artefacts/thresholds.pkl\", \"rb\") as f:\n",
    "    thresholds = pickle.load(f)\n",
    "thresholds"
   ],
   "metadata": {
    "collapsed": false,
    "pycharm": {
     "name": "#%%\n"
    }
   }
  },
  {
   "cell_type": "code",
   "execution_count": 8,
   "outputs": [
    {
     "name": "stdout",
     "output_type": "stream",
     "text": [
      "878.0 16.0\n"
     ]
    }
   ],
   "source": [
    "mkyc_reject_threshold, approved_mkyc_threshold = thresholds.get(\"mkyc -> reject\").get(\"threshold\"), thresholds.get(\"approved -> mkyc\").get(\"threshold\")\n",
    "print(mkyc_reject_threshold, approved_mkyc_threshold)"
   ],
   "metadata": {
    "collapsed": false,
    "pycharm": {
     "name": "#%%\n"
    }
   }
  },
  {
   "cell_type": "code",
   "execution_count": 9,
   "outputs": [],
   "source": [
    "loan_default_engine = BaseLoanDefaultModel(\n",
    "  input_feature_names = input_features,\n",
    "  decision_feature_names = decision_features)\n",
    "loan_default_engine.training_complete = True\n",
    "loan_default_engine.MODEL_VERSION = '1.0.0'\n",
    "loan_default_engine.target_encoder = copy.deepcopy(categorical_encoder)\n",
    "loan_default_engine.model_obj = copy.deepcopy(cal_model.estimator)\n",
    "loan_default_engine.model_calibration_obj = copy.deepcopy(cal_model)\n",
    "loan_default_engine.shap_explainer_obj = copy.deepcopy(shap_explainer)\n",
    "loan_default_engine.THRESHOLD_MKYC_REJECT =  mkyc_reject_threshold\n",
    "loan_default_engine.THRESHOLD_APPROVED_MKYC = approved_mkyc_threshold"
   ],
   "metadata": {
    "collapsed": false,
    "pycharm": {
     "name": "#%%\n"
    }
   }
  },
  {
   "cell_type": "code",
   "execution_count": 10,
   "outputs": [
    {
     "data": {
      "text/plain": "(1000, 22)"
     },
     "execution_count": 10,
     "metadata": {},
     "output_type": "execute_result"
    }
   ],
   "source": [
    "df = pd.read_csv(\"./data/credit.csv\", index_col=0)\n",
    "df.shape"
   ],
   "metadata": {
    "collapsed": false,
    "pycharm": {
     "name": "#%%\n"
    }
   }
  },
  {
   "cell_type": "code",
   "execution_count": 11,
   "outputs": [
    {
     "data": {
      "text/plain": "   checking_balance  months_loan_duration credit_history    purpose  amount  \\\n0             -43.0                     6       critical   radio/tv    1169   \n1              75.0                    48         repaid   radio/tv    5951   \n2               NaN                    12       critical  education    2096   \n3             -32.0                    42         repaid  furniture    7882   \n4             -23.0                    24        delayed  car (new)    4870   \n\n   savings_balance employment_length  installment_rate personal_status  \\\n0              NaN          13 years                 4          single   \n1             89.0           2 years                 2             NaN   \n2             24.0           5 years                 2          single   \n3              9.0           5 years                 2          single   \n4             43.0           3 years                 3          single   \n\n  other_debtors  ... age installment_plan   housing existing_credits default  \\\n0          none  ...  67             none       own                2       0   \n1          none  ...  22             none       own                1       1   \n2          none  ...  49             none       own                1       0   \n3     guarantor  ...  45             none  for free                1       0   \n4          none  ...  53             none  for free                2       1   \n\n   dependents     telephone  foreign_worker                 job  gender  \n0           1  2.349340e+09             yes    skilled employee    male  \n1           1           NaN             yes    skilled employee  female  \n2           2           NaN             yes  unskilled resident    male  \n3           2           NaN             yes    skilled employee    male  \n4           2           NaN             yes    skilled employee    male  \n\n[5 rows x 22 columns]",
      "text/html": "<div>\n<style scoped>\n    .dataframe tbody tr th:only-of-type {\n        vertical-align: middle;\n    }\n\n    .dataframe tbody tr th {\n        vertical-align: top;\n    }\n\n    .dataframe thead th {\n        text-align: right;\n    }\n</style>\n<table border=\"1\" class=\"dataframe\">\n  <thead>\n    <tr style=\"text-align: right;\">\n      <th></th>\n      <th>checking_balance</th>\n      <th>months_loan_duration</th>\n      <th>credit_history</th>\n      <th>purpose</th>\n      <th>amount</th>\n      <th>savings_balance</th>\n      <th>employment_length</th>\n      <th>installment_rate</th>\n      <th>personal_status</th>\n      <th>other_debtors</th>\n      <th>...</th>\n      <th>age</th>\n      <th>installment_plan</th>\n      <th>housing</th>\n      <th>existing_credits</th>\n      <th>default</th>\n      <th>dependents</th>\n      <th>telephone</th>\n      <th>foreign_worker</th>\n      <th>job</th>\n      <th>gender</th>\n    </tr>\n  </thead>\n  <tbody>\n    <tr>\n      <th>0</th>\n      <td>-43.0</td>\n      <td>6</td>\n      <td>critical</td>\n      <td>radio/tv</td>\n      <td>1169</td>\n      <td>NaN</td>\n      <td>13 years</td>\n      <td>4</td>\n      <td>single</td>\n      <td>none</td>\n      <td>...</td>\n      <td>67</td>\n      <td>none</td>\n      <td>own</td>\n      <td>2</td>\n      <td>0</td>\n      <td>1</td>\n      <td>2.349340e+09</td>\n      <td>yes</td>\n      <td>skilled employee</td>\n      <td>male</td>\n    </tr>\n    <tr>\n      <th>1</th>\n      <td>75.0</td>\n      <td>48</td>\n      <td>repaid</td>\n      <td>radio/tv</td>\n      <td>5951</td>\n      <td>89.0</td>\n      <td>2 years</td>\n      <td>2</td>\n      <td>NaN</td>\n      <td>none</td>\n      <td>...</td>\n      <td>22</td>\n      <td>none</td>\n      <td>own</td>\n      <td>1</td>\n      <td>1</td>\n      <td>1</td>\n      <td>NaN</td>\n      <td>yes</td>\n      <td>skilled employee</td>\n      <td>female</td>\n    </tr>\n    <tr>\n      <th>2</th>\n      <td>NaN</td>\n      <td>12</td>\n      <td>critical</td>\n      <td>education</td>\n      <td>2096</td>\n      <td>24.0</td>\n      <td>5 years</td>\n      <td>2</td>\n      <td>single</td>\n      <td>none</td>\n      <td>...</td>\n      <td>49</td>\n      <td>none</td>\n      <td>own</td>\n      <td>1</td>\n      <td>0</td>\n      <td>2</td>\n      <td>NaN</td>\n      <td>yes</td>\n      <td>unskilled resident</td>\n      <td>male</td>\n    </tr>\n    <tr>\n      <th>3</th>\n      <td>-32.0</td>\n      <td>42</td>\n      <td>repaid</td>\n      <td>furniture</td>\n      <td>7882</td>\n      <td>9.0</td>\n      <td>5 years</td>\n      <td>2</td>\n      <td>single</td>\n      <td>guarantor</td>\n      <td>...</td>\n      <td>45</td>\n      <td>none</td>\n      <td>for free</td>\n      <td>1</td>\n      <td>0</td>\n      <td>2</td>\n      <td>NaN</td>\n      <td>yes</td>\n      <td>skilled employee</td>\n      <td>male</td>\n    </tr>\n    <tr>\n      <th>4</th>\n      <td>-23.0</td>\n      <td>24</td>\n      <td>delayed</td>\n      <td>car (new)</td>\n      <td>4870</td>\n      <td>43.0</td>\n      <td>3 years</td>\n      <td>3</td>\n      <td>single</td>\n      <td>none</td>\n      <td>...</td>\n      <td>53</td>\n      <td>none</td>\n      <td>for free</td>\n      <td>2</td>\n      <td>1</td>\n      <td>2</td>\n      <td>NaN</td>\n      <td>yes</td>\n      <td>skilled employee</td>\n      <td>male</td>\n    </tr>\n  </tbody>\n</table>\n<p>5 rows × 22 columns</p>\n</div>"
     },
     "execution_count": 11,
     "metadata": {},
     "output_type": "execute_result"
    }
   ],
   "source": [
    "df.head()"
   ],
   "metadata": {
    "collapsed": false,
    "pycharm": {
     "name": "#%%\n"
    }
   }
  },
  {
   "cell_type": "code",
   "execution_count": 13,
   "outputs": [
    {
     "data": {
      "text/plain": "   loan_default_rating loan_default_engine_decision loan_default_reason\n0                   40                         mkyc                  []\n1                  664                         mkyc                  []\n2                   19                         mkyc                  []\n3                  719                         mkyc                  []\n4                  793                         mkyc                  []",
      "text/html": "<div>\n<style scoped>\n    .dataframe tbody tr th:only-of-type {\n        vertical-align: middle;\n    }\n\n    .dataframe tbody tr th {\n        vertical-align: top;\n    }\n\n    .dataframe thead th {\n        text-align: right;\n    }\n</style>\n<table border=\"1\" class=\"dataframe\">\n  <thead>\n    <tr style=\"text-align: right;\">\n      <th></th>\n      <th>loan_default_rating</th>\n      <th>loan_default_engine_decision</th>\n      <th>loan_default_reason</th>\n    </tr>\n  </thead>\n  <tbody>\n    <tr>\n      <th>0</th>\n      <td>40</td>\n      <td>mkyc</td>\n      <td>[]</td>\n    </tr>\n    <tr>\n      <th>1</th>\n      <td>664</td>\n      <td>mkyc</td>\n      <td>[]</td>\n    </tr>\n    <tr>\n      <th>2</th>\n      <td>19</td>\n      <td>mkyc</td>\n      <td>[]</td>\n    </tr>\n    <tr>\n      <th>3</th>\n      <td>719</td>\n      <td>mkyc</td>\n      <td>[]</td>\n    </tr>\n    <tr>\n      <th>4</th>\n      <td>793</td>\n      <td>mkyc</td>\n      <td>[]</td>\n    </tr>\n  </tbody>\n</table>\n</div>"
     },
     "execution_count": 13,
     "metadata": {},
     "output_type": "execute_result"
    }
   ],
   "source": [
    "decisions = df.apply(lambda row: loan_default_engine.decide(row), axis=1, result_type = 'expand')\n",
    "decisions.head()"
   ],
   "metadata": {
    "collapsed": false,
    "pycharm": {
     "name": "#%%\n"
    }
   }
  },
  {
   "cell_type": "code",
   "execution_count": 14,
   "outputs": [
    {
     "data": {
      "text/plain": "                              loan_default_engine_decision\nloan_default_engine_decision                              \napproved                                             0.054\nmkyc                                                 0.905\nreject                                               0.041",
      "text/html": "<div>\n<style scoped>\n    .dataframe tbody tr th:only-of-type {\n        vertical-align: middle;\n    }\n\n    .dataframe tbody tr th {\n        vertical-align: top;\n    }\n\n    .dataframe thead th {\n        text-align: right;\n    }\n</style>\n<table border=\"1\" class=\"dataframe\">\n  <thead>\n    <tr style=\"text-align: right;\">\n      <th></th>\n      <th>loan_default_engine_decision</th>\n    </tr>\n    <tr>\n      <th>loan_default_engine_decision</th>\n      <th></th>\n    </tr>\n  </thead>\n  <tbody>\n    <tr>\n      <th>approved</th>\n      <td>0.054</td>\n    </tr>\n    <tr>\n      <th>mkyc</th>\n      <td>0.905</td>\n    </tr>\n    <tr>\n      <th>reject</th>\n      <td>0.041</td>\n    </tr>\n  </tbody>\n</table>\n</div>"
     },
     "execution_count": 14,
     "metadata": {},
     "output_type": "execute_result"
    }
   ],
   "source": [
    "decisions.groupby(['loan_default_engine_decision'])[['loan_default_engine_decision']].count()/df.shape[0]"
   ],
   "metadata": {
    "collapsed": false,
    "pycharm": {
     "name": "#%%\n"
    }
   }
  },
  {
   "cell_type": "code",
   "execution_count": 15,
   "outputs": [
    {
     "data": {
      "text/plain": "     loan_default_rating loan_default_engine_decision  \\\n17                   900                       reject   \n63                   906                       reject   \n87                   880                       reject   \n89                   911                       reject   \n95                   926                       reject   \n106                  880                       reject   \n166                  904                       reject   \n170                  913                       reject   \n189                  885                       reject   \n212                  893                       reject   \n257                  900                       reject   \n272                  900                       reject   \n295                  903                       reject   \n353                  921                       reject   \n375                  878                       reject   \n439                  903                       reject   \n475                  903                       reject   \n496                  880                       reject   \n522                  929                       reject   \n545                  898                       reject   \n556                  914                       reject   \n569                  931                       reject   \n658                  883                       reject   \n711                  904                       reject   \n789                  878                       reject   \n814                  883                       reject   \n826                  895                       reject   \n829                  880                       reject   \n832                  926                       reject   \n835                  889                       reject   \n858                  896                       reject   \n887                  883                       reject   \n914                  886                       reject   \n924                  881                       reject   \n925                  909                       reject   \n927                  893                       reject   \n945                  917                       reject   \n946                  884                       reject   \n972                  907                       reject   \n973                  886                       reject   \n986                  878                       reject   \n\n            loan_default_reason  \n17             [CREDIT_HISTORY]  \n63             [CREDIT_HISTORY]  \n87                     [AMOUNT]  \n89             [CREDIT_HISTORY]  \n95             [CREDIT_HISTORY]  \n106            [CREDIT_HISTORY]  \n166          [CHECKING_BALANCE]  \n170            [CREDIT_HISTORY]  \n189            [CREDIT_HISTORY]  \n212            [CREDIT_HISTORY]  \n257            [CREDIT_HISTORY]  \n272            [CREDIT_HISTORY]  \n295                    [AMOUNT]  \n353            [CREDIT_HISTORY]  \n375            [CREDIT_HISTORY]  \n439            [CREDIT_HISTORY]  \n475            [CREDIT_HISTORY]  \n496                    [AMOUNT]  \n522            [CREDIT_HISTORY]  \n545          [CHECKING_BALANCE]  \n556            [CREDIT_HISTORY]  \n569  [RESIDENCE_HISTORY_MONTHS]  \n658            [CREDIT_HISTORY]  \n711            [CREDIT_HISTORY]  \n789      [MONTHS_LOAN_DURATION]  \n814          [CHECKING_BALANCE]  \n826          [CHECKING_BALANCE]  \n829      [MONTHS_LOAN_DURATION]  \n832            [CREDIT_HISTORY]  \n835            [CREDIT_HISTORY]  \n858  [RESIDENCE_HISTORY_MONTHS]  \n887                    [AMOUNT]  \n914            [CREDIT_HISTORY]  \n924            [CREDIT_HISTORY]  \n925            [CREDIT_HISTORY]  \n927                    [AMOUNT]  \n945            [CREDIT_HISTORY]  \n946            [CREDIT_HISTORY]  \n972            [CREDIT_HISTORY]  \n973          [CHECKING_BALANCE]  \n986            [CREDIT_HISTORY]  ",
      "text/html": "<div>\n<style scoped>\n    .dataframe tbody tr th:only-of-type {\n        vertical-align: middle;\n    }\n\n    .dataframe tbody tr th {\n        vertical-align: top;\n    }\n\n    .dataframe thead th {\n        text-align: right;\n    }\n</style>\n<table border=\"1\" class=\"dataframe\">\n  <thead>\n    <tr style=\"text-align: right;\">\n      <th></th>\n      <th>loan_default_rating</th>\n      <th>loan_default_engine_decision</th>\n      <th>loan_default_reason</th>\n    </tr>\n  </thead>\n  <tbody>\n    <tr>\n      <th>17</th>\n      <td>900</td>\n      <td>reject</td>\n      <td>[CREDIT_HISTORY]</td>\n    </tr>\n    <tr>\n      <th>63</th>\n      <td>906</td>\n      <td>reject</td>\n      <td>[CREDIT_HISTORY]</td>\n    </tr>\n    <tr>\n      <th>87</th>\n      <td>880</td>\n      <td>reject</td>\n      <td>[AMOUNT]</td>\n    </tr>\n    <tr>\n      <th>89</th>\n      <td>911</td>\n      <td>reject</td>\n      <td>[CREDIT_HISTORY]</td>\n    </tr>\n    <tr>\n      <th>95</th>\n      <td>926</td>\n      <td>reject</td>\n      <td>[CREDIT_HISTORY]</td>\n    </tr>\n    <tr>\n      <th>106</th>\n      <td>880</td>\n      <td>reject</td>\n      <td>[CREDIT_HISTORY]</td>\n    </tr>\n    <tr>\n      <th>166</th>\n      <td>904</td>\n      <td>reject</td>\n      <td>[CHECKING_BALANCE]</td>\n    </tr>\n    <tr>\n      <th>170</th>\n      <td>913</td>\n      <td>reject</td>\n      <td>[CREDIT_HISTORY]</td>\n    </tr>\n    <tr>\n      <th>189</th>\n      <td>885</td>\n      <td>reject</td>\n      <td>[CREDIT_HISTORY]</td>\n    </tr>\n    <tr>\n      <th>212</th>\n      <td>893</td>\n      <td>reject</td>\n      <td>[CREDIT_HISTORY]</td>\n    </tr>\n    <tr>\n      <th>257</th>\n      <td>900</td>\n      <td>reject</td>\n      <td>[CREDIT_HISTORY]</td>\n    </tr>\n    <tr>\n      <th>272</th>\n      <td>900</td>\n      <td>reject</td>\n      <td>[CREDIT_HISTORY]</td>\n    </tr>\n    <tr>\n      <th>295</th>\n      <td>903</td>\n      <td>reject</td>\n      <td>[AMOUNT]</td>\n    </tr>\n    <tr>\n      <th>353</th>\n      <td>921</td>\n      <td>reject</td>\n      <td>[CREDIT_HISTORY]</td>\n    </tr>\n    <tr>\n      <th>375</th>\n      <td>878</td>\n      <td>reject</td>\n      <td>[CREDIT_HISTORY]</td>\n    </tr>\n    <tr>\n      <th>439</th>\n      <td>903</td>\n      <td>reject</td>\n      <td>[CREDIT_HISTORY]</td>\n    </tr>\n    <tr>\n      <th>475</th>\n      <td>903</td>\n      <td>reject</td>\n      <td>[CREDIT_HISTORY]</td>\n    </tr>\n    <tr>\n      <th>496</th>\n      <td>880</td>\n      <td>reject</td>\n      <td>[AMOUNT]</td>\n    </tr>\n    <tr>\n      <th>522</th>\n      <td>929</td>\n      <td>reject</td>\n      <td>[CREDIT_HISTORY]</td>\n    </tr>\n    <tr>\n      <th>545</th>\n      <td>898</td>\n      <td>reject</td>\n      <td>[CHECKING_BALANCE]</td>\n    </tr>\n    <tr>\n      <th>556</th>\n      <td>914</td>\n      <td>reject</td>\n      <td>[CREDIT_HISTORY]</td>\n    </tr>\n    <tr>\n      <th>569</th>\n      <td>931</td>\n      <td>reject</td>\n      <td>[RESIDENCE_HISTORY_MONTHS]</td>\n    </tr>\n    <tr>\n      <th>658</th>\n      <td>883</td>\n      <td>reject</td>\n      <td>[CREDIT_HISTORY]</td>\n    </tr>\n    <tr>\n      <th>711</th>\n      <td>904</td>\n      <td>reject</td>\n      <td>[CREDIT_HISTORY]</td>\n    </tr>\n    <tr>\n      <th>789</th>\n      <td>878</td>\n      <td>reject</td>\n      <td>[MONTHS_LOAN_DURATION]</td>\n    </tr>\n    <tr>\n      <th>814</th>\n      <td>883</td>\n      <td>reject</td>\n      <td>[CHECKING_BALANCE]</td>\n    </tr>\n    <tr>\n      <th>826</th>\n      <td>895</td>\n      <td>reject</td>\n      <td>[CHECKING_BALANCE]</td>\n    </tr>\n    <tr>\n      <th>829</th>\n      <td>880</td>\n      <td>reject</td>\n      <td>[MONTHS_LOAN_DURATION]</td>\n    </tr>\n    <tr>\n      <th>832</th>\n      <td>926</td>\n      <td>reject</td>\n      <td>[CREDIT_HISTORY]</td>\n    </tr>\n    <tr>\n      <th>835</th>\n      <td>889</td>\n      <td>reject</td>\n      <td>[CREDIT_HISTORY]</td>\n    </tr>\n    <tr>\n      <th>858</th>\n      <td>896</td>\n      <td>reject</td>\n      <td>[RESIDENCE_HISTORY_MONTHS]</td>\n    </tr>\n    <tr>\n      <th>887</th>\n      <td>883</td>\n      <td>reject</td>\n      <td>[AMOUNT]</td>\n    </tr>\n    <tr>\n      <th>914</th>\n      <td>886</td>\n      <td>reject</td>\n      <td>[CREDIT_HISTORY]</td>\n    </tr>\n    <tr>\n      <th>924</th>\n      <td>881</td>\n      <td>reject</td>\n      <td>[CREDIT_HISTORY]</td>\n    </tr>\n    <tr>\n      <th>925</th>\n      <td>909</td>\n      <td>reject</td>\n      <td>[CREDIT_HISTORY]</td>\n    </tr>\n    <tr>\n      <th>927</th>\n      <td>893</td>\n      <td>reject</td>\n      <td>[AMOUNT]</td>\n    </tr>\n    <tr>\n      <th>945</th>\n      <td>917</td>\n      <td>reject</td>\n      <td>[CREDIT_HISTORY]</td>\n    </tr>\n    <tr>\n      <th>946</th>\n      <td>884</td>\n      <td>reject</td>\n      <td>[CREDIT_HISTORY]</td>\n    </tr>\n    <tr>\n      <th>972</th>\n      <td>907</td>\n      <td>reject</td>\n      <td>[CREDIT_HISTORY]</td>\n    </tr>\n    <tr>\n      <th>973</th>\n      <td>886</td>\n      <td>reject</td>\n      <td>[CHECKING_BALANCE]</td>\n    </tr>\n    <tr>\n      <th>986</th>\n      <td>878</td>\n      <td>reject</td>\n      <td>[CREDIT_HISTORY]</td>\n    </tr>\n  </tbody>\n</table>\n</div>"
     },
     "execution_count": 15,
     "metadata": {},
     "output_type": "execute_result"
    }
   ],
   "source": [
    "decisions[decisions.loan_default_engine_decision=='reject']"
   ],
   "metadata": {
    "collapsed": false,
    "pycharm": {
     "name": "#%%\n"
    }
   }
  },
  {
   "cell_type": "code",
   "execution_count": 16,
   "outputs": [],
   "source": [
    "with open(\"./artefacts/loan_default_engine.pkl\", \"wb\") as f:\n",
    "    pickle.dump(loan_default_engine, f, pickle.HIGHEST_PROTOCOL)"
   ],
   "metadata": {
    "collapsed": false,
    "pycharm": {
     "name": "#%%\n"
    }
   }
  },
  {
   "cell_type": "code",
   "execution_count": 17,
   "outputs": [
    {
     "data": {
      "text/plain": "Index(['checking_balance', 'months_loan_duration', 'credit_history', 'purpose',\n       'amount', 'savings_balance', 'employment_length', 'installment_rate',\n       'personal_status', 'other_debtors', 'residence_history', 'property',\n       'age', 'installment_plan', 'housing', 'existing_credits', 'default',\n       'dependents', 'telephone', 'foreign_worker', 'job', 'gender'],\n      dtype='object')"
     },
     "execution_count": 17,
     "metadata": {},
     "output_type": "execute_result"
    }
   ],
   "source": [
    "df.columns"
   ],
   "metadata": {
    "collapsed": false,
    "pycharm": {
     "name": "#%%\n"
    }
   }
  },
  {
   "cell_type": "code",
   "execution_count": null,
   "outputs": [],
   "source": [],
   "metadata": {
    "collapsed": false,
    "pycharm": {
     "name": "#%%\n"
    }
   }
  }
 ],
 "metadata": {
  "kernelspec": {
   "display_name": "Python 3",
   "language": "python",
   "name": "python3"
  },
  "language_info": {
   "codemirror_mode": {
    "name": "ipython",
    "version": 2
   },
   "file_extension": ".py",
   "mimetype": "text/x-python",
   "name": "python",
   "nbconvert_exporter": "python",
   "pygments_lexer": "ipython2",
   "version": "2.7.6"
  }
 },
 "nbformat": 4,
 "nbformat_minor": 0
}